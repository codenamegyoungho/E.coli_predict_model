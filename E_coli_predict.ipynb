{
  "nbformat": 4,
  "nbformat_minor": 0,
  "metadata": {
    "colab": {
      "provenance": []
    },
    "kernelspec": {
      "name": "python3",
      "display_name": "Python 3"
    },
    "language_info": {
      "name": "python"
    }
  },
  "cells": [
    {
      "cell_type": "code",
      "source": [
        "import torch\n",
        "import torch.nn as nn\n",
        "import torch.optim as optim\n",
        "from torchvision import datasets, models, transforms\n",
        "\n",
        "import matplotlib.pyplot as plt\n",
        "import numpy as np\n",
        "import time\n",
        "import os\n",
        "import copy\n",
        "from sklearn.model_selection import train_test_split"
      ],
      "metadata": {
        "id": "u0XAqRfPdXVG"
      },
      "execution_count": 1,
      "outputs": []
    },
    {
      "cell_type": "code",
      "source": [
        "data_dir = \"/content/drive/MyDrive/dataset\""
      ],
      "metadata": {
        "id": "HPKS2ldC3ptN"
      },
      "execution_count": 2,
      "outputs": []
    },
    {
      "cell_type": "code",
      "source": [
        "import shutil\n",
        "from os import listdir\n",
        "from os.path import isfile, join\n",
        "\n",
        "def split_data(source, train_dir, test_dir, split_ratio=0.8):\n",
        "    \"\"\"\n",
        "    데이터를 train과 test 폴더로 분할하는 함수.\n",
        "    \"\"\"\n",
        "    if not os.path.exists(train_dir):\n",
        "        os.makedirs(train_dir)\n",
        "    if not os.path.exists(test_dir):\n",
        "        os.makedirs(test_dir)\n",
        "\n",
        "    classes = [d for d in os.listdir(source) if os.path.isdir(join(source, d))]\n",
        "    for cls in classes:\n",
        "        cls_source = join(source, cls)\n",
        "        images = [f for f in listdir(cls_source) if isfile(join(cls_source, f))]\n",
        "        train_images, test_images = train_test_split(images, train_size=split_ratio, random_state=42)\n",
        "\n",
        "        cls_train_dir = join(train_dir, cls)\n",
        "        cls_test_dir = join(test_dir, cls)\n",
        "        if not os.path.exists(cls_train_dir):\n",
        "            os.makedirs(cls_train_dir)\n",
        "        if not os.path.exists(cls_test_dir):\n",
        "            os.makedirs(cls_test_dir)\n",
        "\n",
        "        for img in train_images:\n",
        "            shutil.copy(join(cls_source, img), join(cls_train_dir, img))\n",
        "        for img in test_images:\n",
        "            shutil.copy(join(cls_source, img), join(cls_test_dir, img))\n",
        "\n",
        "# 원본 데이터 경로\n",
        "source_dir = data_dir\n",
        "\n",
        "# Train과 Test 디렉토리 생성\n",
        "train_dir = '/content/drive/My Drive/dataset_split/train'\n",
        "test_dir = '/content/drive/My Drive/dataset_split/test'\n",
        "\n",
        "# 데이터 분할 실행\n",
        "split_data(source_dir, train_dir, test_dir, split_ratio=0.8)\n",
        "\n",
        "\n"
      ],
      "metadata": {
        "id": "Iex6rmun4dUA"
      },
      "execution_count": 3,
      "outputs": []
    },
    {
      "cell_type": "code",
      "source": [
        "# 하이퍼파라미터 설정\n",
        "input_size = 224  # VGG16, ResNet 등 사전 학습된 모델이 기대하는 이미지 크기\n",
        "\n",
        "# 데이터 전처리 및 증강 설정\n",
        "data_transforms = {\n",
        "    'train': transforms.Compose([\n",
        "        transforms.RandomResizedCrop(input_size),\n",
        "        transforms.RandomHorizontalFlip(),\n",
        "        transforms.RandomRotation(15),\n",
        "        transforms.ToTensor(),\n",
        "        transforms.Normalize([0.485, 0.456, 0.406],  # ImageNet 평균\n",
        "                             [0.229, 0.224, 0.225])  # ImageNet 표준편차\n",
        "    ]),\n",
        "    'test': transforms.Compose([\n",
        "        transforms.Resize(256),\n",
        "        transforms.CenterCrop(input_size),\n",
        "        transforms.ToTensor(),\n",
        "        transforms.Normalize([0.485, 0.456, 0.406],\n",
        "                             [0.229, 0.224, 0.225])\n",
        "    ]),\n",
        "}\n"
      ],
      "metadata": {
        "id": "ogdqr4a-54QV"
      },
      "execution_count": 4,
      "outputs": []
    },
    {
      "cell_type": "code",
      "source": [
        "# 데이터셋 로드\n",
        "image_datasets = {x: datasets.ImageFolder(os.path.join('/content/drive/My Drive/dataset_split', x),\n",
        "                                          data_transforms[x])\n",
        "                  for x in ['train', 'test']}\n",
        "\n",
        "# 데이터 로더 생성\n",
        "dataloaders = {x: torch.utils.data.DataLoader(image_datasets[x], batch_size=16,\n",
        "                                             shuffle=True, num_workers=2)\n",
        "              for x in ['train', 'test']}\n",
        "\n",
        "# 데이터셋 크기 확인\n",
        "dataset_sizes = {x: len(image_datasets[x]) for x in ['train', 'test']}\n",
        "print(dataset_sizes)\n",
        "\n",
        "# 클래스 이름 확인\n",
        "class_names = image_datasets['train'].classes\n",
        "print(class_names)\n"
      ],
      "metadata": {
        "colab": {
          "base_uri": "https://localhost:8080/"
        },
        "id": "nV45rKRt5_R1",
        "outputId": "f41682a4-f759-46e1-f324-c66157dd4cd8"
      },
      "execution_count": 5,
      "outputs": [
        {
          "output_type": "stream",
          "name": "stdout",
          "text": [
            "{'train': 90, 'test': 39}\n",
            "['E_coli', 'Non_E_coli']\n"
          ]
        }
      ]
    },
    {
      "cell_type": "code",
      "source": [
        "# 사전 학습된 ResNet18 모델 불러오기\n",
        "model_ft = models.resnet18(pretrained=True)\n",
        "\n",
        "# 마지막 완전 연결 층 수정 (Binary Classification을 위해 출력 노드를 1개로 설정)\n",
        "num_ftrs = model_ft.fc.in_features\n",
        "model_ft.fc = nn.Sequential(\n",
        "    nn.Linear(num_ftrs, 1),\n",
        "    nn.Sigmoid()\n",
        ")\n",
        "\n",
        "# GPU 사용 가능 여부 확인\n",
        "device = torch.device(\"cuda:0\" if torch.cuda.is_available() else \"cpu\")\n",
        "model_ft = model_ft.to(device)\n",
        "\n",
        "# 손실 함수 정의 (Binary Classification을 위해 BCELoss 사용)\n",
        "criterion = nn.BCELoss()\n",
        "\n",
        "# 옵티마이저 정의 (모델의 모든 파라미터를 업데이트)\n",
        "optimizer_ft = optim.Adam(model_ft.parameters(), lr=1e-4)\n",
        "\n",
        "# 학습 스케줄러 정의 (학습률 감소)\n",
        "exp_lr_scheduler = optim.lr_scheduler.StepLR(optimizer_ft, step_size=7, gamma=0.1)\n",
        "\n",
        "# 모델 요약 확인\n",
        "print(model_ft)\n"
      ],
      "metadata": {
        "colab": {
          "base_uri": "https://localhost:8080/"
        },
        "id": "7e8qrAlg6Ef5",
        "outputId": "eacca759-66b7-414d-cfe9-86fd22e925d3"
      },
      "execution_count": 6,
      "outputs": [
        {
          "output_type": "stream",
          "name": "stderr",
          "text": [
            "/usr/local/lib/python3.10/dist-packages/torchvision/models/_utils.py:208: UserWarning: The parameter 'pretrained' is deprecated since 0.13 and may be removed in the future, please use 'weights' instead.\n",
            "  warnings.warn(\n",
            "/usr/local/lib/python3.10/dist-packages/torchvision/models/_utils.py:223: UserWarning: Arguments other than a weight enum or `None` for 'weights' are deprecated since 0.13 and may be removed in the future. The current behavior is equivalent to passing `weights=ResNet18_Weights.IMAGENET1K_V1`. You can also use `weights=ResNet18_Weights.DEFAULT` to get the most up-to-date weights.\n",
            "  warnings.warn(msg)\n",
            "Downloading: \"https://download.pytorch.org/models/resnet18-f37072fd.pth\" to /root/.cache/torch/hub/checkpoints/resnet18-f37072fd.pth\n",
            "100%|██████████| 44.7M/44.7M [00:00<00:00, 153MB/s]"
          ]
        },
        {
          "output_type": "stream",
          "name": "stdout",
          "text": [
            "ResNet(\n",
            "  (conv1): Conv2d(3, 64, kernel_size=(7, 7), stride=(2, 2), padding=(3, 3), bias=False)\n",
            "  (bn1): BatchNorm2d(64, eps=1e-05, momentum=0.1, affine=True, track_running_stats=True)\n",
            "  (relu): ReLU(inplace=True)\n",
            "  (maxpool): MaxPool2d(kernel_size=3, stride=2, padding=1, dilation=1, ceil_mode=False)\n",
            "  (layer1): Sequential(\n",
            "    (0): BasicBlock(\n",
            "      (conv1): Conv2d(64, 64, kernel_size=(3, 3), stride=(1, 1), padding=(1, 1), bias=False)\n",
            "      (bn1): BatchNorm2d(64, eps=1e-05, momentum=0.1, affine=True, track_running_stats=True)\n",
            "      (relu): ReLU(inplace=True)\n",
            "      (conv2): Conv2d(64, 64, kernel_size=(3, 3), stride=(1, 1), padding=(1, 1), bias=False)\n",
            "      (bn2): BatchNorm2d(64, eps=1e-05, momentum=0.1, affine=True, track_running_stats=True)\n",
            "    )\n",
            "    (1): BasicBlock(\n",
            "      (conv1): Conv2d(64, 64, kernel_size=(3, 3), stride=(1, 1), padding=(1, 1), bias=False)\n",
            "      (bn1): BatchNorm2d(64, eps=1e-05, momentum=0.1, affine=True, track_running_stats=True)\n",
            "      (relu): ReLU(inplace=True)\n",
            "      (conv2): Conv2d(64, 64, kernel_size=(3, 3), stride=(1, 1), padding=(1, 1), bias=False)\n",
            "      (bn2): BatchNorm2d(64, eps=1e-05, momentum=0.1, affine=True, track_running_stats=True)\n",
            "    )\n",
            "  )\n",
            "  (layer2): Sequential(\n",
            "    (0): BasicBlock(\n",
            "      (conv1): Conv2d(64, 128, kernel_size=(3, 3), stride=(2, 2), padding=(1, 1), bias=False)\n",
            "      (bn1): BatchNorm2d(128, eps=1e-05, momentum=0.1, affine=True, track_running_stats=True)\n",
            "      (relu): ReLU(inplace=True)\n",
            "      (conv2): Conv2d(128, 128, kernel_size=(3, 3), stride=(1, 1), padding=(1, 1), bias=False)\n",
            "      (bn2): BatchNorm2d(128, eps=1e-05, momentum=0.1, affine=True, track_running_stats=True)\n",
            "      (downsample): Sequential(\n",
            "        (0): Conv2d(64, 128, kernel_size=(1, 1), stride=(2, 2), bias=False)\n",
            "        (1): BatchNorm2d(128, eps=1e-05, momentum=0.1, affine=True, track_running_stats=True)\n",
            "      )\n",
            "    )\n",
            "    (1): BasicBlock(\n",
            "      (conv1): Conv2d(128, 128, kernel_size=(3, 3), stride=(1, 1), padding=(1, 1), bias=False)\n",
            "      (bn1): BatchNorm2d(128, eps=1e-05, momentum=0.1, affine=True, track_running_stats=True)\n",
            "      (relu): ReLU(inplace=True)\n",
            "      (conv2): Conv2d(128, 128, kernel_size=(3, 3), stride=(1, 1), padding=(1, 1), bias=False)\n",
            "      (bn2): BatchNorm2d(128, eps=1e-05, momentum=0.1, affine=True, track_running_stats=True)\n",
            "    )\n",
            "  )\n",
            "  (layer3): Sequential(\n",
            "    (0): BasicBlock(\n",
            "      (conv1): Conv2d(128, 256, kernel_size=(3, 3), stride=(2, 2), padding=(1, 1), bias=False)\n",
            "      (bn1): BatchNorm2d(256, eps=1e-05, momentum=0.1, affine=True, track_running_stats=True)\n",
            "      (relu): ReLU(inplace=True)\n",
            "      (conv2): Conv2d(256, 256, kernel_size=(3, 3), stride=(1, 1), padding=(1, 1), bias=False)\n",
            "      (bn2): BatchNorm2d(256, eps=1e-05, momentum=0.1, affine=True, track_running_stats=True)\n",
            "      (downsample): Sequential(\n",
            "        (0): Conv2d(128, 256, kernel_size=(1, 1), stride=(2, 2), bias=False)\n",
            "        (1): BatchNorm2d(256, eps=1e-05, momentum=0.1, affine=True, track_running_stats=True)\n",
            "      )\n",
            "    )\n",
            "    (1): BasicBlock(\n",
            "      (conv1): Conv2d(256, 256, kernel_size=(3, 3), stride=(1, 1), padding=(1, 1), bias=False)\n",
            "      (bn1): BatchNorm2d(256, eps=1e-05, momentum=0.1, affine=True, track_running_stats=True)\n",
            "      (relu): ReLU(inplace=True)\n",
            "      (conv2): Conv2d(256, 256, kernel_size=(3, 3), stride=(1, 1), padding=(1, 1), bias=False)\n",
            "      (bn2): BatchNorm2d(256, eps=1e-05, momentum=0.1, affine=True, track_running_stats=True)\n",
            "    )\n",
            "  )\n",
            "  (layer4): Sequential(\n",
            "    (0): BasicBlock(\n",
            "      (conv1): Conv2d(256, 512, kernel_size=(3, 3), stride=(2, 2), padding=(1, 1), bias=False)\n",
            "      (bn1): BatchNorm2d(512, eps=1e-05, momentum=0.1, affine=True, track_running_stats=True)\n",
            "      (relu): ReLU(inplace=True)\n",
            "      (conv2): Conv2d(512, 512, kernel_size=(3, 3), stride=(1, 1), padding=(1, 1), bias=False)\n",
            "      (bn2): BatchNorm2d(512, eps=1e-05, momentum=0.1, affine=True, track_running_stats=True)\n",
            "      (downsample): Sequential(\n",
            "        (0): Conv2d(256, 512, kernel_size=(1, 1), stride=(2, 2), bias=False)\n",
            "        (1): BatchNorm2d(512, eps=1e-05, momentum=0.1, affine=True, track_running_stats=True)\n",
            "      )\n",
            "    )\n",
            "    (1): BasicBlock(\n",
            "      (conv1): Conv2d(512, 512, kernel_size=(3, 3), stride=(1, 1), padding=(1, 1), bias=False)\n",
            "      (bn1): BatchNorm2d(512, eps=1e-05, momentum=0.1, affine=True, track_running_stats=True)\n",
            "      (relu): ReLU(inplace=True)\n",
            "      (conv2): Conv2d(512, 512, kernel_size=(3, 3), stride=(1, 1), padding=(1, 1), bias=False)\n",
            "      (bn2): BatchNorm2d(512, eps=1e-05, momentum=0.1, affine=True, track_running_stats=True)\n",
            "    )\n",
            "  )\n",
            "  (avgpool): AdaptiveAvgPool2d(output_size=(1, 1))\n",
            "  (fc): Sequential(\n",
            "    (0): Linear(in_features=512, out_features=1, bias=True)\n",
            "    (1): Sigmoid()\n",
            "  )\n",
            ")\n"
          ]
        },
        {
          "output_type": "stream",
          "name": "stderr",
          "text": [
            "\n"
          ]
        }
      ]
    },
    {
      "cell_type": "code",
      "source": [
        "from PIL import Image\n",
        "\n",
        "# 문제 이미지 경로\n",
        "problem_image_path = '/content/drive/My Drive/dataset_split/train/E_coli/ecoli2.png'\n",
        "\n",
        "try:\n",
        "    img = Image.open(problem_image_path)\n",
        "    img.verify()  # 이미지가 손상되지 않았는지 확인\n",
        "    print(f\"이미지 {problem_image_path}는 정상입니다.\")\n",
        "except Exception as e:\n",
        "    print(f\"이미지 {problem_image_path}를 여는 중 오류 발생: {e}\")\n"
      ],
      "metadata": {
        "colab": {
          "base_uri": "https://localhost:8080/"
        },
        "id": "G7Chtuv56jr2",
        "outputId": "72cc95e6-11a5-4771-e43a-d618afa2e567"
      },
      "execution_count": 7,
      "outputs": [
        {
          "output_type": "stream",
          "name": "stdout",
          "text": [
            "이미지 /content/drive/My Drive/dataset_split/train/E_coli/ecoli2.png는 정상입니다.\n"
          ]
        }
      ]
    },
    {
      "cell_type": "code",
      "source": [
        "import os\n",
        "from PIL import Image\n",
        "\n",
        "def find_and_remove_corrupted_images(directory):\n",
        "    \"\"\"\n",
        "    주어진 디렉토리 내의 모든 이미지를 검사하고, 손상된 이미지를 제거합니다.\n",
        "    \"\"\"\n",
        "    corrupted_images = []\n",
        "    for root, _, files in os.walk(directory):\n",
        "        for file in files:\n",
        "            if file.lower().endswith(('.png', '.jpg', '.jpeg', '.bmp', '.gif', '.tiff')):\n",
        "                file_path = os.path.join(root, file)\n",
        "                try:\n",
        "                    with Image.open(file_path) as img:\n",
        "                        img.verify()  # 이미지가 손상되지 않았는지 확인\n",
        "                except Exception as e:\n",
        "                    print(f\"손상된 이미지 발견: {file_path} - {e}\")\n",
        "                    corrupted_images.append(file_path)\n",
        "\n",
        "    # 손상된 이미지 삭제\n",
        "    for img_path in corrupted_images:\n",
        "        try:\n",
        "            os.remove(img_path)\n",
        "            print(f\"삭제된 이미지: {img_path}\")\n",
        "        except Exception as e:\n",
        "            print(f\"이미지 삭제 실패: {img_path} - {e}\")\n",
        "\n",
        "# 데이터셋 경로 설정\n",
        "train_dir = '/content/drive/My Drive/dataset_split/train'\n",
        "test_dir = '/content/drive/My Drive/dataset_split/test'\n",
        "\n",
        "# 훈련 데이터에서 손상된 이미지 제거\n",
        "print(\"훈련 데이터에서 손상된 이미지 검사 중...\")\n",
        "find_and_remove_corrupted_images(train_dir)\n",
        "\n",
        "# 테스트 데이터에서 손상된 이미지 제거\n",
        "print(\"\\n테스트 데이터에서 손상된 이미지 검사 중...\")\n",
        "find_and_remove_corrupted_images(test_dir)\n"
      ],
      "metadata": {
        "colab": {
          "base_uri": "https://localhost:8080/"
        },
        "id": "PskCvYMa6s5C",
        "outputId": "11a769eb-17b6-4f27-99c7-6ef0d7c9915c"
      },
      "execution_count": 8,
      "outputs": [
        {
          "output_type": "stream",
          "name": "stdout",
          "text": [
            "훈련 데이터에서 손상된 이미지 검사 중...\n",
            "\n",
            "테스트 데이터에서 손상된 이미지 검사 중...\n"
          ]
        }
      ]
    },
    {
      "cell_type": "code",
      "source": [
        "def train_model(model, criterion, optimizer, scheduler, num_epochs=25):\n",
        "    since = time.time()\n",
        "\n",
        "    best_model_wts = copy.deepcopy(model.state_dict())\n",
        "    best_acc = 0.0\n",
        "\n",
        "    # 기록을 저장할 리스트\n",
        "    train_acc_history = []\n",
        "    test_acc_history = []\n",
        "    train_loss_history = []\n",
        "    test_loss_history = []\n",
        "\n",
        "    for epoch in range(num_epochs):\n",
        "        print('Epoch {}/{}'.format(epoch +1, num_epochs))\n",
        "        print('-' * 10)\n",
        "\n",
        "        # 각 에포크는 훈련과 테스트 단계로 구성\n",
        "        for phase in ['train', 'test']:\n",
        "            if phase == 'train':\n",
        "                model.train()  # 모델을 훈련 모드로 설정\n",
        "            else:\n",
        "                model.eval()   # 모델을 평가 모드로 설정\n",
        "\n",
        "            running_loss = 0.0\n",
        "            running_corrects = 0\n",
        "\n",
        "            # 데이터 로더에서 배치 단위로 데이터 가져오기\n",
        "            for inputs, labels in dataloaders[phase]:\n",
        "                inputs = inputs.to(device)\n",
        "                labels = labels.to(device).float().unsqueeze(1)  # BCE Loss를 위해 형상 맞추기\n",
        "\n",
        "                # 옵티마이저 초기화\n",
        "                optimizer.zero_grad()\n",
        "\n",
        "                # 순전파\n",
        "                with torch.set_grad_enabled(phase == 'train'):\n",
        "                    outputs = model(inputs)\n",
        "                    loss = criterion(outputs, labels)\n",
        "                    preds = (outputs > 0.5).float()\n",
        "\n",
        "                    # 역전파 및 최적화 (훈련 단계에서만)\n",
        "                    if phase == 'train':\n",
        "                        loss.backward()\n",
        "                        optimizer.step()\n",
        "\n",
        "                # 통계\n",
        "                running_loss += loss.item() * inputs.size(0)\n",
        "                running_corrects += torch.sum(preds == labels.data)\n",
        "\n",
        "            if phase == 'train':\n",
        "                scheduler.step()\n",
        "\n",
        "            epoch_loss = running_loss / dataset_sizes[phase]\n",
        "            epoch_acc = running_corrects.double() / dataset_sizes[phase]\n",
        "\n",
        "            print('{} Loss: {:.4f} Acc: {:.4f}'.format(\n",
        "                phase, epoch_loss, epoch_acc))\n",
        "\n",
        "            # 기록 저장\n",
        "            if phase == 'train':\n",
        "                train_loss_history.append(epoch_loss)\n",
        "                train_acc_history.append(epoch_acc.item())\n",
        "            else:\n",
        "                test_loss_history.append(epoch_loss)\n",
        "                test_acc_history.append(epoch_acc.item())\n",
        "\n",
        "                # 모델 성능이 향상되면 모델 가중치 저장\n",
        "                if epoch_acc > best_acc:\n",
        "                    best_acc = epoch_acc\n",
        "                    best_model_wts = copy.deepcopy(model.state_dict())\n",
        "\n",
        "        print()\n",
        "\n",
        "    time_elapsed = time.time() - since\n",
        "    print('Training complete in {:.0f}m {:.0f}s'.format(\n",
        "        time_elapsed // 60, time_elapsed % 60))\n",
        "    print('Best Test Acc: {:4f}'.format(best_acc))\n",
        "\n",
        "    # 최상의 모델 가중치 로드\n",
        "    model.load_state_dict(best_model_wts)\n",
        "\n",
        "    # 기록 반환\n",
        "    history = {\n",
        "        'train_loss': train_loss_history,\n",
        "        'train_acc': train_acc_history,\n",
        "        'test_loss': test_loss_history,\n",
        "        'test_acc': test_acc_history\n",
        "    }\n",
        "\n",
        "    return model, history\n",
        "\n",
        "# 학습 실행 (예: 20 에포크)\n",
        "model_ft, history = train_model(model_ft, criterion, optimizer_ft, exp_lr_scheduler,\n",
        "                                num_epochs=20)\n"
      ],
      "metadata": {
        "colab": {
          "base_uri": "https://localhost:8080/"
        },
        "id": "zXknnAss6ICO",
        "outputId": "2be2804a-a6b4-4da0-d3ac-24f6002e0cd7"
      },
      "execution_count": 9,
      "outputs": [
        {
          "output_type": "stream",
          "name": "stdout",
          "text": [
            "Epoch 1/20\n",
            "----------\n",
            "train Loss: 0.5974 Acc: 0.7000\n",
            "test Loss: 0.3894 Acc: 0.8974\n",
            "\n",
            "Epoch 2/20\n",
            "----------\n",
            "train Loss: 0.3757 Acc: 0.8444\n",
            "test Loss: 0.2900 Acc: 0.8718\n",
            "\n",
            "Epoch 3/20\n",
            "----------\n",
            "train Loss: 0.2671 Acc: 0.9000\n",
            "test Loss: 0.2201 Acc: 0.8462\n",
            "\n",
            "Epoch 4/20\n",
            "----------\n",
            "train Loss: 0.2280 Acc: 0.8889\n",
            "test Loss: 0.2074 Acc: 0.8718\n",
            "\n",
            "Epoch 5/20\n",
            "----------\n",
            "train Loss: 0.1419 Acc: 0.9556\n",
            "test Loss: 0.2182 Acc: 0.8974\n",
            "\n",
            "Epoch 6/20\n",
            "----------\n",
            "train Loss: 0.1916 Acc: 0.9222\n",
            "test Loss: 0.1849 Acc: 0.9487\n",
            "\n",
            "Epoch 7/20\n",
            "----------\n",
            "train Loss: 0.1131 Acc: 0.9556\n",
            "test Loss: 0.1313 Acc: 0.9487\n",
            "\n",
            "Epoch 8/20\n",
            "----------\n",
            "train Loss: 0.1214 Acc: 0.9556\n",
            "test Loss: 0.1136 Acc: 0.9487\n",
            "\n",
            "Epoch 9/20\n",
            "----------\n",
            "train Loss: 0.1109 Acc: 0.9667\n",
            "test Loss: 0.1140 Acc: 0.9487\n",
            "\n",
            "Epoch 10/20\n",
            "----------\n",
            "train Loss: 0.0934 Acc: 0.9778\n",
            "test Loss: 0.1031 Acc: 0.9487\n",
            "\n",
            "Epoch 11/20\n",
            "----------\n",
            "train Loss: 0.1087 Acc: 0.9556\n",
            "test Loss: 0.1015 Acc: 0.9487\n",
            "\n",
            "Epoch 12/20\n",
            "----------\n",
            "train Loss: 0.1688 Acc: 0.9222\n",
            "test Loss: 0.1178 Acc: 0.9487\n",
            "\n",
            "Epoch 13/20\n",
            "----------\n",
            "train Loss: 0.1305 Acc: 0.9444\n",
            "test Loss: 0.1100 Acc: 0.9487\n",
            "\n",
            "Epoch 14/20\n",
            "----------\n",
            "train Loss: 0.0626 Acc: 0.9889\n",
            "test Loss: 0.1002 Acc: 0.9487\n",
            "\n",
            "Epoch 15/20\n",
            "----------\n",
            "train Loss: 0.1408 Acc: 0.9444\n",
            "test Loss: 0.1163 Acc: 0.9487\n",
            "\n",
            "Epoch 16/20\n",
            "----------\n",
            "train Loss: 0.1073 Acc: 0.9667\n",
            "test Loss: 0.1099 Acc: 0.9487\n",
            "\n",
            "Epoch 17/20\n",
            "----------\n",
            "train Loss: 0.1135 Acc: 0.9667\n",
            "test Loss: 0.1189 Acc: 0.9487\n",
            "\n",
            "Epoch 18/20\n",
            "----------\n",
            "train Loss: 0.0925 Acc: 0.9778\n",
            "test Loss: 0.1116 Acc: 0.9487\n",
            "\n",
            "Epoch 19/20\n",
            "----------\n",
            "train Loss: 0.0640 Acc: 0.9889\n",
            "test Loss: 0.1031 Acc: 0.9487\n",
            "\n",
            "Epoch 20/20\n",
            "----------\n",
            "train Loss: 0.1390 Acc: 0.9556\n",
            "test Loss: 0.0977 Acc: 0.9487\n",
            "\n",
            "Training complete in 11m 38s\n",
            "Best Test Acc: 0.948718\n"
          ]
        }
      ]
    },
    {
      "cell_type": "code",
      "source": [
        "# 학습 결과 시각화\n",
        "def plot_training_history(history):\n",
        "    epochs = range(1, len(history['train_acc']) +1)\n",
        "\n",
        "    plt.figure(figsize=(12,5))\n",
        "\n",
        "    # 정확도 그래프\n",
        "    plt.subplot(1,2,1)\n",
        "    plt.plot(epochs, history['train_acc'], 'bo-', label='Training Accuracy')\n",
        "    plt.plot(epochs, history['test_acc'], 'ro-', label='Test Accuracy')\n",
        "    plt.title('Training and Test Accuracy')\n",
        "    plt.xlabel('Epochs')\n",
        "    plt.ylabel('Accuracy')\n",
        "    plt.legend()\n",
        "\n",
        "    # 손실 그래프\n",
        "    plt.subplot(1,2,2)\n",
        "    plt.plot(epochs, history['train_loss'], 'bo-', label='Training Loss')\n",
        "    plt.plot(epochs, history['test_loss'], 'ro-', label='Test Loss')\n",
        "    plt.title('Training and Test Loss')\n",
        "    plt.xlabel('Epochs')\n",
        "    plt.ylabel('Loss')\n",
        "    plt.legend()\n",
        "\n",
        "    plt.show()\n",
        "\n",
        "plot_training_history(history)\n"
      ],
      "metadata": {
        "colab": {
          "base_uri": "https://localhost:8080/",
          "height": 394
        },
        "id": "indTYaycBxD4",
        "outputId": "2fbb830f-1539-4293-c5a3-aaa73902dd76"
      },
      "execution_count": 11,
      "outputs": [
        {
          "output_type": "display_data",
          "data": {
            "text/plain": [
              "<Figure size 1200x500 with 2 Axes>"
            ],
            "image/png": "[encoded data removed]"
          },
          "metadata": {}
        }
      ]
    },
    {
      "cell_type": "code",
      "source": [
        "# 테스트 데이터셋 평가\n",
        "def evaluate_model(model, dataloader, dataset_size):\n",
        "    model.eval()\n",
        "    running_corrects = 0\n",
        "    running_loss = 0.0\n",
        "\n",
        "    with torch.no_grad():\n",
        "        for inputs, labels in dataloaders['test']:\n",
        "            inputs = inputs.to(device)\n",
        "            labels = labels.to(device).float().unsqueeze(1)\n",
        "\n",
        "            outputs = model(inputs)\n",
        "            loss = criterion(outputs, labels)\n",
        "            preds = (outputs > 0.5).float()\n",
        "\n",
        "            running_loss += loss.item() * inputs.size(0)\n",
        "            running_corrects += torch.sum(preds == labels.data)\n",
        "\n",
        "    total_loss = running_loss / dataset_size\n",
        "    total_acc = running_corrects.double() / dataset_size\n",
        "\n",
        "    print('Test Loss: {:.4f} Acc: {:.4f}'.format(total_loss, total_acc))\n",
        "\n",
        "evaluate_model(model_ft, dataloaders['test'], dataset_sizes['test'])\n"
      ],
      "metadata": {
        "colab": {
          "base_uri": "https://localhost:8080/"
        },
        "id": "r1fNGBHSCJZV",
        "outputId": "74e54412-2f8e-4c2a-e0c9-1f562a12b08f"
      },
      "execution_count": 12,
      "outputs": [
        {
          "output_type": "stream",
          "name": "stdout",
          "text": [
            "Test Loss: 0.1849 Acc: 0.9487\n"
          ]
        }
      ]
    },
    {
      "cell_type": "code",
      "source": [
        "# 모델 저장\n",
        "model_save_path = '/content/drive/My Drive/models/ecoli_classifier.pth'\n",
        "torch.save(model_ft.state_dict(), model_save_path)\n",
        "print('Model saved to', model_save_path)\n",
        "\n",
        "# 모델 로드\n",
        "model_loaded = models.resnet18(pretrained=True)\n",
        "num_ftrs = model_loaded.fc.in_features\n",
        "model_loaded.fc = nn.Sequential(\n",
        "    nn.Linear(num_ftrs, 1),\n",
        "    nn.Sigmoid()\n",
        ")\n",
        "model_loaded.load_state_dict(torch.load(model_save_path))\n",
        "model_loaded = model_loaded.to(device)\n",
        "print('Model loaded from', model_save_path)\n"
      ],
      "metadata": {
        "colab": {
          "base_uri": "https://localhost:8080/"
        },
        "id": "0KkTXD-JCNT3",
        "outputId": "3dea36b4-0ea0-4cd7-89a2-6696ee7cfd53"
      },
      "execution_count": 15,
      "outputs": [
        {
          "output_type": "stream",
          "name": "stdout",
          "text": [
            "Model saved to /content/drive/My Drive/models/ecoli_classifier.pth\n",
            "Model loaded from /content/drive/My Drive/models/ecoli_classifier.pth\n"
          ]
        },
        {
          "output_type": "stream",
          "name": "stderr",
          "text": [
            "<ipython-input-15-976b538b170e>:13: FutureWarning: You are using `torch.load` with `weights_only=False` (the current default value), which uses the default pickle module implicitly. It is possible to construct malicious pickle data which will execute arbitrary code during unpickling (See https://github.com/pytorch/pytorch/blob/main/SECURITY.md#untrusted-models for more details). In a future release, the default value for `weights_only` will be flipped to `True`. This limits the functions that could be executed during unpickling. Arbitrary objects will no longer be allowed to be loaded via this mode unless they are explicitly allowlisted by the user via `torch.serialization.add_safe_globals`. We recommend you start setting `weights_only=True` for any use case where you don't have full control of the loaded file. Please open an issue on GitHub for any issues related to this experimental feature.\n",
            "  model_loaded.load_state_dict(torch.load(model_save_path))\n"
          ]
        }
      ]
    },
    {
      "cell_type": "code",
      "source": [
        "from PIL import Image\n",
        "\n",
        "# 예측 함수 정의\n",
        "def predict_image(model, image_path, transform, class_names):\n",
        "    model.eval()\n",
        "    image = Image.open(image_path).convert('RGB')\n",
        "    image = transform(image).unsqueeze(0)  # 배치 차원 추가\n",
        "    image = image.to(device)\n",
        "\n",
        "    with torch.no_grad():\n",
        "        output = model(image)\n",
        "        probability = output.item()\n",
        "        prediction = 1 if probability > 0.5 else 0\n",
        "        class_label = class_names[prediction]\n",
        "\n",
        "    return probability, class_label\n",
        "\n",
        "# 예측 예시\n",
        "# Google Drive에 있는 새로운 이미지의 경로를 설정\n",
        "new_image_path = \"/content/drive/MyDrive/dataset/E_coli/ecoli.png\"\n",
        "\n",
        "# 변환 정의 (전처리와 동일하게 설정)\n",
        "predict_transform = transforms.Compose([\n",
        "    transforms.Resize(256),\n",
        "    transforms.CenterCrop(input_size),\n",
        "    transforms.ToTensor(),\n",
        "    transforms.Normalize([0.485, 0.456, 0.406],\n",
        "                         [0.229, 0.224, 0.225])\n",
        "])\n",
        "\n",
        "prob, label = predict_image(model_ft, new_image_path, predict_transform, class_names)\n",
        "print(f'Probability of E. coli: {prob:.4f}')\n",
        "print(f'Predicted Label: {label}')\n"
      ],
      "metadata": {
        "colab": {
          "base_uri": "https://localhost:8080/"
        },
        "id": "5vgaGjM_Clso",
        "outputId": "d6bcc22e-c4a6-4ba1-a04b-4c77a8c67f27"
      },
      "execution_count": 17,
      "outputs": [
        {
          "output_type": "stream",
          "name": "stdout",
          "text": [
            "Probability of E. coli: 0.0016\n",
            "Predicted Label: E_coli\n"
          ]
        }
      ]
    }
  ]
}